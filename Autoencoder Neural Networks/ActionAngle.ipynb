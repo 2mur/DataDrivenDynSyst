{
 "cells": [
  {
   "cell_type": "markdown",
   "metadata": {},
   "source": [
    "<font size=\"10\">Learning Action-Angle Coordinate Transformations</font>\n",
    "\n",
    "<font size=\"4\">This notebook loads the trained autoencoder neural network that provides a transformation to action-angle coordinates for the Kepler problem. The Kepler problem is a second order differential equation, given by</font>\n",
    "\n",
    "$\\ddot{r} = \\frac{1}{r^3} - \\frac{1}{r^2},$\n",
    "\n",
    "<font size=\"4\">where $r = r(t) \\geq 0$ denotes the distance between to bodies interacting through a central force that varies as the inverse square of the distance between them (Newtonian gravity). Data and network training is performed by the notebook Kepler_train.ipynb, found in the action_angle_scripts folder.</font>\n",
    "\n",
    "<font size=\"4\">This code was written by Jason J. Bramburger and [Bethany Lusch](https://bethanyl.github.io/) to accompany the work in Section 6.3 of the book <i>Data-Driven Methods for Dynamic Systems</i>. We use Tensorflow 2.0 to build the neural network."
   ]
  },
  {
   "cell_type": "code",
   "execution_count": null,
   "metadata": {},
   "outputs": [],
   "source": []
  }
 ],
 "metadata": {
  "kernelspec": {
   "display_name": "Python 3",
   "language": "python",
   "name": "python3"
  },
  "language_info": {
   "codemirror_mode": {
    "name": "ipython",
    "version": 3
   },
   "file_extension": ".py",
   "mimetype": "text/x-python",
   "name": "python",
   "nbconvert_exporter": "python",
   "pygments_lexer": "ipython3",
   "version": "3.8.3"
  }
 },
 "nbformat": 4,
 "nbformat_minor": 4
}
