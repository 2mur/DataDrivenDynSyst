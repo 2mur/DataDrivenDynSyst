{
 "cells": [
  {
   "cell_type": "markdown",
   "metadata": {},
   "source": [
    "<font size=\"10\">Bistable Traveling Waves with PINNs</font>\n",
    "\n",
    "<font size=\"4\">This notebook employs a physics informed neural network (PINN) to demonstrate the existence of traveling wave solutions to the bistable reaction-diffusion equation: \n",
    "$\\partial_t u = \\partial_x^2 u + u(1 - u)(u - a), \\quad a \\in (0,1), \\quad u = u(x,t).$\n",
    "</font>\n",
    "\n",
    "<font size=\"4\">Through a series of manipulations, traveling wave solutions to the above partial differential equation are equivalent to solving the (parameterized) boundary value problem:\n",
    "$U U' + cU + \\xi(1 - \\xi)(\\xi - a), \\quad U(0) = U(1) = 0, \\quad \\xi \\in [0,1],$\n",
    "</font>\n",
    "\n",
    "<font size=\"4\">where $U = U(\\xi)$, $\\xi = x - ct$ is the new independent variable and $c \\in \\mathbb{R}$ is the (unknown) speed of propagation.</font> \n",
    "\n",
    "\n",
    "<font size=\"4\">The neural network is trained so that it approximates the function $\\xi \\mapsto U(\\xi)$ for each $\\xi \\in [0,1]$. The wave speed parameter $c$ is considered as a trainable network parameter that is found through the training process.</font>"
   ]
  },
  {
   "cell_type": "markdown",
   "metadata": {},
   "source": [
    "<font size=\"4\">This code was written by Jason J. Bramburger and accompanies the work in Section 4.4 of the book <i>Data-Driven Methods for Dynamic Systems</i>. We use Tensorflow 2.0 to build the neural network, which is imported as tf. The general PINN framework here is adapted from the PINN in the repository [janblechschmidt/PDEsbyNNS](https://github.com/janblechschmidt/PDEsByNNs) from GitHub user [Jan Blechschmidt](https://github.com/janblechschmidt).</font>"
   ]
  },
  {
   "cell_type": "code",
   "execution_count": 88,
   "metadata": {},
   "outputs": [],
   "source": [
    "# Import TensorFlow and NumPy\n",
    "import tensorflow as tf\n",
    "import numpy as np\n",
    "\n",
    "# Set data type\n",
    "DTYPE='float32'\n",
    "tf.keras.backend.set_floatx(DTYPE)\n",
    "\n",
    "# Set constants\n",
    "pi = tf.constant(np.pi, dtype=DTYPE)"
   ]
  },
  {
   "cell_type": "code",
   "execution_count": 89,
   "metadata": {},
   "outputs": [],
   "source": [
    "# Define residual of the ODE\n",
    "def fun_r(c, x, u, u_x):\n",
    "    a = 0.9\n",
    "    return u*u_x + c*u + x*(1 - x)*(x - a)"
   ]
  },
  {
   "cell_type": "code",
   "execution_count": 90,
   "metadata": {},
   "outputs": [],
   "source": [
    "# Set number of data points\n",
    "N_r = 1000\n",
    "\n",
    "# Set boundary\n",
    "xmin = 0.\n",
    "xmax = 1.\n",
    "X_b = tf.concat([xmin, xmax], axis=0)\n",
    "\n",
    "# Set random seed for reproducible results\n",
    "tf.random.set_seed(0)\n",
    "\n",
    "# Interior points\n",
    "X_r = tf.random.uniform((N_r,1), xmin, xmax, dtype=DTYPE)"
   ]
  },
  {
   "cell_type": "code",
   "execution_count": 91,
   "metadata": {},
   "outputs": [],
   "source": [
    "def init_model(num_hidden_layers=12, num_neurons_per_layer=20):\n",
    "    # Initialize a feedforward neural network\n",
    "    model = tf.keras.Sequential()\n",
    "    \n",
    "    # Create variable for the wave speed \n",
    "    model.c = tf.Variable(0.0, trainable = True)\n",
    "\n",
    "    # Input is one-dimensional\n",
    "    model.add(tf.keras.Input(1))\n",
    "\n",
    "    # Append hidden layers\n",
    "    for _ in range(num_hidden_layers):\n",
    "        model.add(tf.keras.layers.Dense(num_neurons_per_layer,\n",
    "            activation=tf.keras.activations.get('selu'),\n",
    "            kernel_initializer='glorot_normal'))\n",
    "\n",
    "    # Output is one-dimensional \n",
    "    model.add(tf.keras.layers.Dense(1))\n",
    "    \n",
    "    return model"
   ]
  },
  {
   "cell_type": "code",
   "execution_count": 92,
   "metadata": {},
   "outputs": [],
   "source": [
    "def compute_loss(model, X_r, X_b):\n",
    "    \n",
    "    # A tf.GradientTape is used to compute derivatives in TensorFlow\n",
    "    with tf.GradientTape(persistent=True) as tape:\n",
    "        \n",
    "        # Get evaluation points\n",
    "        x = X_r\n",
    "        \n",
    "        # Variable x is watched during tape to compute derivative u_x\n",
    "        tape.watch(x)\n",
    "\n",
    "        # Determine residual \n",
    "        u = model(x)\n",
    "\n",
    "        # Compute gradient u_x within the GradientTape\n",
    "        u_x = tape.gradient(u, x)\n",
    "\n",
    "    del tape\n",
    "    \n",
    "    # Get wave speed variable\n",
    "    c = model.c\n",
    "    \n",
    "    # Define loss\n",
    "    loss = tf.reduce_mean(tf.square(fun_r(c, x, u, u_x)))\n",
    "\n",
    "    # Neumann boundary conditions in loss\n",
    "    u0 = model(X_b)\n",
    "    loss += tf.reduce_mean(tf.square(u0))\n",
    "    \n",
    "    return loss"
   ]
  },
  {
   "cell_type": "code",
   "execution_count": 93,
   "metadata": {},
   "outputs": [],
   "source": [
    "def get_grad(model, X_r, X_b):\n",
    "    \n",
    "    with tf.GradientTape(persistent=True) as tape:\n",
    "        # This tape is for derivatives with\n",
    "        # respect to trainable variables\n",
    "        tape.watch(model.trainable_variables)\n",
    "        loss = compute_loss(model, X_r, X_b)\n",
    "\n",
    "    g = tape.gradient(loss, model.trainable_variables)\n",
    "    del tape\n",
    "\n",
    "    return loss, g"
   ]
  },
  {
   "cell_type": "code",
   "execution_count": 94,
   "metadata": {},
   "outputs": [],
   "source": [
    "# Initialize model aka P(U)\n",
    "model = init_model()\n",
    "\n",
    "lr = tf.keras.optimizers.schedules.PiecewiseConstantDecay([1000,3000],[1e-3,1e-4,1e-5])\n",
    "\n",
    "# Choose the optimizer\n",
    "optim = tf.keras.optimizers.Adam(learning_rate=lr)"
   ]
  },
  {
   "cell_type": "code",
   "execution_count": 110,
   "metadata": {},
   "outputs": [
    {
     "name": "stdout",
     "output_type": "stream",
     "text": [
      "It 00000: loss = 1.13515125e-05\n",
      "It 00050: loss = 1.20567784e-05\n",
      "It 00100: loss = 1.24838580e-05\n",
      "It 00150: loss = 1.31482775e-05\n",
      "It 00200: loss = 1.25171064e-05\n",
      "It 00250: loss = 1.18400703e-05\n",
      "It 00300: loss = 1.22302326e-05\n",
      "It 00350: loss = 1.28665388e-05\n",
      "It 00400: loss = 1.40839675e-05\n",
      "It 00450: loss = 2.08610545e-05\n",
      "It 00500: loss = 1.51104023e-05\n",
      "It 00550: loss = 1.25748547e-05\n",
      "It 00600: loss = 1.12781217e-05\n",
      "It 00650: loss = 1.00091884e-05\n",
      "It 00700: loss = 1.01907272e-05\n",
      "It 00750: loss = 9.03508771e-06\n",
      "It 00800: loss = 8.63549849e-06\n",
      "It 00850: loss = 8.04016690e-06\n",
      "It 00900: loss = 6.81629717e-06\n",
      "It 00950: loss = 6.54320775e-06\n",
      "It 01000: loss = 6.02846194e-06\n",
      "It 01050: loss = 5.47657919e-06\n",
      "It 01100: loss = 5.06275319e-06\n",
      "It 01150: loss = 5.07773166e-06\n",
      "It 01200: loss = 4.26124734e-06\n",
      "It 01250: loss = 3.19921082e-06\n",
      "It 01300: loss = 2.99238809e-06\n",
      "It 01350: loss = 2.71089789e-06\n",
      "It 01400: loss = 2.45886304e-06\n",
      "It 01450: loss = 2.36004598e-06\n",
      "It 01500: loss = 2.38029293e-06\n",
      "It 01550: loss = 2.32937464e-06\n",
      "It 01600: loss = 2.23807865e-06\n",
      "It 01650: loss = 2.44014291e-06\n",
      "It 01700: loss = 2.49303821e-06\n",
      "It 01750: loss = 2.58835894e-06\n",
      "It 01800: loss = 2.49221944e-06\n",
      "It 01850: loss = 2.55035388e-06\n",
      "It 01900: loss = 2.38642497e-06\n",
      "It 01950: loss = 2.48167476e-06\n",
      "It 02000: loss = 2.58155819e-06\n",
      "\n",
      "Computation time: 8.00019121170044 seconds\n"
     ]
    }
   ],
   "source": [
    "from time import time\n",
    "\n",
    "# Define one training step as a TensorFlow function to increase speed of training\n",
    "@tf.function\n",
    "def train_step():\n",
    "    # Compute current loss and gradient w.r.t. parameters\n",
    "    loss, grad_theta = get_grad(model, X_r, X_b)\n",
    "    \n",
    "    # Perform gradient descent step\n",
    "    optim.apply_gradients(zip(grad_theta, model.trainable_variables))\n",
    "    \n",
    "    return loss\n",
    "\n",
    "# Number of training epochs\n",
    "N = 10000\n",
    "hist = []\n",
    "\n",
    "# Start timer\n",
    "t0 = time()\n",
    "\n",
    "for i in range(N+1):\n",
    "    \n",
    "    loss = train_step()\n",
    "    \n",
    "    # Append current loss to hist\n",
    "    hist.append(loss.numpy())\n",
    "    \n",
    "    # Output current loss after 50 iterates\n",
    "    if i%50 == 0:\n",
    "        print('It {:05d}: loss = {:10.8e}'.format(i,loss))\n",
    "        \n",
    "# Print computation time\n",
    "print('\\nComputation time: {} seconds'.format(time()-t0))"
   ]
  },
  {
   "cell_type": "code",
   "execution_count": 111,
   "metadata": {},
   "outputs": [
    {
     "name": "stdout",
     "output_type": "stream",
     "text": [
      "0.58448905\n",
      "tf.Tensor(\n",
      "[[4.8074638e-05]\n",
      " [5.4869568e-05]], shape=(2, 1), dtype=float32)\n"
     ]
    },
    {
     "data": {
      "image/png": "[encoded data removed]",
      "text/plain": [
       "<Figure size 432x288 with 1 Axes>"
      ]
     },
     "metadata": {
      "needs_background": "light"
     },
     "output_type": "display_data"
    }
   ],
   "source": [
    "# View trained model specs\n",
    "from matplotlib import pyplot as plt\n",
    "\n",
    "# Predicted wave speed\n",
    "print(model.c.numpy())\n",
    "\n",
    "# Determine predictions of u(x)\n",
    "X = tf.linspace(xmin,xmax, 5000)\n",
    "upred = model(tf.cast(X,DTYPE))\n",
    "\n",
    "# Plot results\n",
    "plt.plot(X,upred)\n",
    "plt.xlabel(r'$\\xi$')\n",
    "plt.ylabel(r'$U(\\xi)$')\n",
    "\n",
    "# Check boundary conditions\n",
    "u_b = model(tf.cast(X_b,DTYPE))\n",
    "print(u_b)"
   ]
  },
  {
   "cell_type": "code",
   "execution_count": 106,
   "metadata": {},
   "outputs": [
    {
     "data": {
      "image/png": "[encoded data removed]",
      "text/plain": [
       "<Figure size 648x432 with 1 Axes>"
      ]
     },
     "metadata": {
      "needs_background": "light"
     },
     "output_type": "display_data"
    }
   ],
   "source": [
    "# View loss function values vs. number of epochs\n",
    "fig = plt.figure(figsize=(9,6))\n",
    "ax = fig.add_subplot(111)\n",
    "ax.semilogy(range(len(hist)), hist,'k-')\n",
    "ax.set_xlabel('Epochs')\n",
    "ax.set_ylabel('Loss Value');"
   ]
  },
  {
   "cell_type": "code",
   "execution_count": 107,
   "metadata": {},
   "outputs": [
    {
     "name": "stdout",
     "output_type": "stream",
     "text": [
      "WARNING:tensorflow:Compiled the loaded model, but the compiled metrics have yet to be built. `model.compile_metrics` will be empty until you train or evaluate the model.\n",
      "INFO:tensorflow:Assets written to: traveling_wave_models/twave_a=0.9/assets\n"
     ]
    }
   ],
   "source": [
    "# Save network config\n",
    "#!mkdir -p traveling_wave_models\n",
    "#model.save('traveling_wave_models/twave_a=0.9')"
   ]
  },
  {
   "cell_type": "code",
   "execution_count": 112,
   "metadata": {},
   "outputs": [
    {
     "name": "stdout",
     "output_type": "stream",
     "text": [
      "WARNING:tensorflow:No training configuration found in save file, so the model was *not* compiled. Compile it manually.\n",
      "Model: \"sequential_5\"\n",
      "_________________________________________________________________\n",
      " Layer (type)                Output Shape              Param #   \n",
      "=================================================================\n",
      " dense_65 (Dense)            (None, 20)                40        \n",
      "                                                                 \n",
      " dense_66 (Dense)            (None, 20)                420       \n",
      "                                                                 \n",
      " dense_67 (Dense)            (None, 20)                420       \n",
      "                                                                 \n",
      " dense_68 (Dense)            (None, 20)                420       \n",
      "                                                                 \n",
      " dense_69 (Dense)            (None, 20)                420       \n",
      "                                                                 \n",
      " dense_70 (Dense)            (None, 20)                420       \n",
      "                                                                 \n",
      " dense_71 (Dense)            (None, 20)                420       \n",
      "                                                                 \n",
      " dense_72 (Dense)            (None, 20)                420       \n",
      "                                                                 \n",
      " dense_73 (Dense)            (None, 20)                420       \n",
      "                                                                 \n",
      " dense_74 (Dense)            (None, 20)                420       \n",
      "                                                                 \n",
      " dense_75 (Dense)            (None, 20)                420       \n",
      "                                                                 \n",
      " dense_76 (Dense)            (None, 20)                420       \n",
      "                                                                 \n",
      " dense_77 (Dense)            (None, 1)                 21        \n",
      "                                                                 \n",
      "=================================================================\n",
      "Total params: 4,682\n",
      "Trainable params: 4,682\n",
      "Non-trainable params: 0\n",
      "_________________________________________________________________\n",
      "0.5677361\n"
     ]
    }
   ],
   "source": [
    "# Load saved model\n",
    "saved_model = tf.keras.models.load_model('traveling_wave_models/twave_a=0.9')\n",
    "saved_model.summary()\n",
    "\n",
    "# Print computed wave speed\n",
    "print(saved_model.c.numpy())"
   ]
  },
  {
   "cell_type": "code",
   "execution_count": null,
   "metadata": {},
   "outputs": [],
   "source": []
  }
 ],
 "metadata": {
  "kernelspec": {
   "display_name": "Python 3",
   "language": "python",
   "name": "python3"
  },
  "language_info": {
   "codemirror_mode": {
    "name": "ipython",
    "version": 3
   },
   "file_extension": ".py",
   "mimetype": "text/x-python",
   "name": "python",
   "nbconvert_exporter": "python",
   "pygments_lexer": "ipython3",
   "version": "3.8.3"
  }
 },
 "nbformat": 4,
 "nbformat_minor": 4
}
